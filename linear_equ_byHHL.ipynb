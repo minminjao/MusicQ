{
 "cells": [
  {
   "cell_type": "code",
   "execution_count": null,
   "id": "2adb2599-2e9f-4d0c-ae02-d862bf6af8c4",
   "metadata": {},
   "outputs": [],
   "source": [
    "import numpy as np\n",
    "\n",
    "dim = 10  # Oscillator dimension\n",
    "\n",
    "v = 5.  # Transmon frequency in GHz\n",
    "anharm = -0.33  # Transmon anharmonicity in GHz\n",
    "r = 0.02  # Transmon drive coupling in GHz\n",
    "\n",
    "# Construct cavity operators\n",
    "a = np.diag(np.sqrt(np.arange(1, dim)), 1)\n",
    "adag = np.diag(np.sqrt(np.arange(1, dim)), -1)\n",
    "N = np.diag(np.arange(dim))\n",
    "\n",
    "# Static part of Hamiltonian\n",
    "static_hamiltonian = 2 * np.pi * v * N + np.pi * anharm * N * (N - np.eye(dim))\n",
    "# Drive term of Hamiltonian\n",
    "drive_hamiltonian = 2 * np.pi * r * (a + adag)\n",
    "\n",
    "# total simulation time\n",
    "T = 1. / r\n",
    "\n",
    "# Drive envelope function\n",
    "envelope_func = lambda t: t * (T - t) / (T**2 / 4)"
   ]
  },
  {
   "cell_type": "code",
   "execution_count": null,
   "id": "1e4e461e-d9be-4ebf-9382-bcdf632144c0",
   "metadata": {},
   "outputs": [
    {
     "name": "stdout",
     "output_type": "stream",
     "text": [
      "x1 = 1.125\n",
      "x2 = 0.375\n"
     ]
    }
   ],
   "source": [
    "import numpy as np\n",
    "A = np.array([[1, -1/3], [-1/3, 1]])\n",
    "b = np.array([1, 0])\n",
    "solution = np.linalg.solve(A, b)\n",
    "x1, x2 = solution\n",
    "print(\"x1 =\", x1)\n",
    "print(\"x2 =\", x2)"
   ]
  },
  {
   "cell_type": "code",
   "execution_count": 9,
   "id": "3cd0700f-7e54-4bb4-b504-d34a62309d55",
   "metadata": {},
   "outputs": [],
   "source": [
    "classical_solution = NumPyLinearSolver().solve(matrix,\n",
    "                                               vector/np.linalg.norm(vector))"
   ]
  },
  {
   "cell_type": "code",
   "execution_count": 10,
   "id": "4087afc6-f6ed-436f-bbc7-6cebf43415ec",
   "metadata": {},
   "outputs": [],
   "source": [
    "import numpy as np\n",
    "from linear_solvers import NumPyLinearSolver, HHL\n",
    "matrix = np.array([ [1, -1/3], [-1/3, 1] ])\n",
    "vector = np.array([1, 0])\n",
    "naive_hhl_solution = HHL().solve(matrix, vector)"
   ]
  },
  {
   "cell_type": "code",
   "execution_count": 11,
   "id": "de7bfef5-c604-4ce3-bda7-93668f9dac6a",
   "metadata": {},
   "outputs": [],
   "source": [
    "from linear_solvers.matrices.tridiagonal_toeplitz import TridiagonalToeplitz\n",
    "tridi_matrix = TridiagonalToeplitz(1, 1, -1 / 3)\n",
    "tridi_solution = HHL().solve(tridi_matrix, vector)"
   ]
  },
  {
   "cell_type": "code",
   "execution_count": 12,
   "id": "e4bf443f-5940-4024-8aa5-fc3d272562ef",
   "metadata": {},
   "outputs": [
    {
     "name": "stdout",
     "output_type": "stream",
     "text": [
      "classical state: [1.125 0.375]\n"
     ]
    }
   ],
   "source": [
    "print('classical state:', classical_solution.state)"
   ]
  },
  {
   "cell_type": "code",
   "execution_count": 13,
   "id": "d1d7e5f7-2f24-47a1-b3fb-24e141d673a2",
   "metadata": {},
   "outputs": [
    {
     "name": "stdout",
     "output_type": "stream",
     "text": [
      "naive state:\n",
      "        ┌──────────────┐┌──────┐        ┌─────────┐\n",
      "  q287: ┤ circuit-1855 ├┤3     ├────────┤3        ├\n",
      "        └──────────────┘│      │┌──────┐│         │\n",
      "q288_0: ────────────────┤0     ├┤2     ├┤0        ├\n",
      "                        │  QPE ││      ││  QPE_dg │\n",
      "q288_1: ────────────────┤1     ├┤1     ├┤1        ├\n",
      "                        │      ││  1/x ││         │\n",
      "q288_2: ────────────────┤2     ├┤0     ├┤2        ├\n",
      "                        └──────┘│      │└─────────┘\n",
      "  q289: ────────────────────────┤3     ├───────────\n",
      "                                └──────┘           \n",
      "tridiagonal state:\n",
      "        ┌──────────────┐┌──────┐        ┌─────────┐\n",
      "  q309: ┤ circuit-2068 ├┤3     ├────────┤3        ├\n",
      "        └──────────────┘│      │┌──────┐│         │\n",
      "q310_0: ────────────────┤0     ├┤2     ├┤0        ├\n",
      "                        │  QPE ││      ││  QPE_dg │\n",
      "q310_1: ────────────────┤1     ├┤1     ├┤1        ├\n",
      "                        │      ││  1/x ││         │\n",
      "q310_2: ────────────────┤2     ├┤0     ├┤2        ├\n",
      "                        └──────┘│      │└─────────┘\n",
      "  q311: ────────────────────────┤3     ├───────────\n",
      "                                └──────┘           \n"
     ]
    }
   ],
   "source": [
    "print('naive state:')\n",
    "print(naive_hhl_solution.state)\n",
    "print('tridiagonal state:')\n",
    "print(tridi_solution.state)"
   ]
  },
  {
   "cell_type": "code",
   "execution_count": 14,
   "id": "b98617d2-da13-43e0-9a34-784f8170d18f",
   "metadata": {},
   "outputs": [
    {
     "name": "stdout",
     "output_type": "stream",
     "text": [
      "classical Euclidean norm: 1.1858541225631423\n",
      "naive Euclidean norm: 1.1858541225631383\n",
      "tridiagonal Euclidean norm: 1.1858541225631365\n"
     ]
    }
   ],
   "source": [
    "print('classical Euclidean norm:', classical_solution.euclidean_norm)\n",
    "print('naive Euclidean norm:', naive_hhl_solution.euclidean_norm)\n",
    "print('tridiagonal Euclidean norm:', tridi_solution.euclidean_norm)"
   ]
  },
  {
   "cell_type": "code",
   "execution_count": 15,
   "id": "5e3b8d57-eb47-4db4-a685-1858d7913809",
   "metadata": {},
   "outputs": [
    {
     "name": "stdout",
     "output_type": "stream",
     "text": [
      "naive raw solution vector: [0.75+4.59370677e-16j 0.25+1.41617691e-16j]\n",
      "tridi raw solution vector: [0.75-9.16909463e-17j 0.25+3.71057007e-16j]\n"
     ]
    }
   ],
   "source": [
    "from qiskit.quantum_info import Statevector\n",
    "\n",
    "naive_sv = Statevector(naive_hhl_solution.state).data\n",
    "tridi_sv = Statevector(tridi_solution.state).data\n",
    "\n",
    "# Extract vector components; 10000(bin) == 16 & 10001(bin) == 17\n",
    "naive_full_vector = np.array([naive_sv[16], naive_sv[17] ])\n",
    "tridi_full_vector = np.array([tridi_sv[16], tridi_sv[17] ])\n",
    "\n",
    "print('naive raw solution vector:', naive_full_vector)\n",
    "print('tridi raw solution vector:', tridi_full_vector)"
   ]
  },
  {
   "cell_type": "code",
   "execution_count": 17,
   "id": "f7e0664b-813f-4d30-afe7-0ce7cef39e82",
   "metadata": {},
   "outputs": [
    {
     "name": "stdout",
     "output_type": "stream",
     "text": [
      "full naive solution vector: [1.125 0.375]\n",
      "full tridi solution vector: [1.125 0.375]\n",
      "classical state: [1.125 0.375]\n"
     ]
    }
   ],
   "source": [
    "def get_solution_vector(solution):\n",
    "    solution_vector = Statevector(solution.state).data[16:18].real\n",
    "    norm = solution.euclidean_norm\n",
    "    return norm * solution_vector / np.linalg.norm(solution_vector)\n",
    "print('full naive solution vector:', get_solution_vector(naive_hhl_solution))\n",
    "print('full tridi solution vector:', get_solution_vector(tridi_solution))\n",
    "print('classical state:', classical_solution.state)"
   ]
  },
  {
   "cell_type": "code",
   "execution_count": 49,
   "id": "354f5cf3-9719-41a8-a9a0-e794d72b58e5",
   "metadata": {},
   "outputs": [
    {
     "name": "stdout",
     "output_type": "stream",
     "text": [
      "classical euclidean norm: 1.237833351044751\n",
      "naive euclidean norm: 1.209980623111888\n",
      "tridiagonal euclidean norm: 1.2094577218705271\n"
     ]
    }
   ],
   "source": [
    "from scipy.sparse import diags\n",
    "\n",
    "NUM_QUBITS = 2\n",
    "MATRIX_SIZE = 2 ** NUM_QUBITS\n",
    "# entries of the tridiagonal Toeplitz symmetric matrix\n",
    "a = 1\n",
    "b = -1/3\n",
    "\n",
    "matrix = diags([b, a, b],\n",
    "               [-1, 0, 1],\n",
    "               shape=(MATRIX_SIZE, MATRIX_SIZE)).toarray()\n",
    "\n",
    "vector = np.array([1] + [0]*(MATRIX_SIZE - 1))\n",
    "# run the algorithms\n",
    "classical_solution = NumPyLinearSolver(\n",
    "                        ).solve(matrix, vector / np.linalg.norm(vector))\n",
    "naive_hhl_solution = HHL().solve(matrix, vector)\n",
    "tridi_matrix = TridiagonalToeplitz(NUM_QUBITS, a, b)\n",
    "tridi_solution = HHL().solve(tridi_matrix, vector)\n",
    "\n",
    "print('classical euclidean norm:', classical_solution.euclidean_norm)\n",
    "print('naive euclidean norm:', naive_hhl_solution.euclidean_norm)\n",
    "print('tridiagonal euclidean norm:', tridi_solution.euclidean_norm)"
   ]
  },
  {
   "cell_type": "code",
   "execution_count": 50,
   "id": "01b5c857-c8e1-4149-94d7-11e740730eee",
   "metadata": {},
   "outputs": [],
   "source": [
    "from qiskit import transpile\n",
    "\n",
    "MAX_QUBITS = 4\n",
    "a = 1\n",
    "b = -1/3\n",
    "\n",
    "i = 1\n",
    "# calculate the circuit depths for different number of qubits to compare the use\n",
    "# of resources (WARNING: This will take a while to execute)\n",
    "naive_depths = []\n",
    "tridi_depths = []\n",
    "for n_qubits in range(1, MAX_QUBITS+1):\n",
    "    matrix = diags([b, a, b],\n",
    "                   [-1, 0, 1],\n",
    "                   shape=(2**n_qubits, 2**n_qubits)).toarray()\n",
    "    vector = np.array([1] + [0]*(2**n_qubits -1))\n",
    "\n",
    "    naive_hhl_solution = HHL().solve(matrix, vector)\n",
    "    tridi_matrix = TridiagonalToeplitz(n_qubits, a, b)\n",
    "    tridi_solution = HHL().solve(tridi_matrix, vector)\n",
    "\n",
    "    naive_qc = transpile(naive_hhl_solution.state,\n",
    "                         basis_gates=['id', 'rz', 'sx', 'x', 'cx'])\n",
    "    tridi_qc = transpile(tridi_solution.state,\n",
    "                         basis_gates=['id', 'rz', 'sx', 'x', 'cx'])\n",
    "\n",
    "    naive_depths.append(naive_qc.depth())\n",
    "    tridi_depths.append(tridi_qc.depth())\n",
    "    i +=1"
   ]
  },
  {
   "cell_type": "code",
   "execution_count": 51,
   "id": "1fc922b6-43ff-4815-bca9-6f05585a5a12",
   "metadata": {},
   "outputs": [
    {
     "name": "stdout",
     "output_type": "stream",
     "text": [
      "quantum average: 0.7499999999999962\n",
      "classical average: 0.75\n",
      "quantum circuit results: (0.4999999999999952+0j)\n"
     ]
    }
   ],
   "source": [
    "from linear_solvers.observables import AbsoluteAverage, MatrixFunctional\n",
    "\n",
    "NUM_QUBITS = 1\n",
    "MATRIX_SIZE = 2 ** NUM_QUBITS\n",
    "# entries of the tridiagonal Toeplitz symmetric matrix\n",
    "a = 1\n",
    "b = -1/3\n",
    "\n",
    "matrix = diags([b, a, b],\n",
    "               [-1, 0, 1],\n",
    "               shape=(MATRIX_SIZE, MATRIX_SIZE)).toarray()\n",
    "vector = np.array([1] + [0]*(MATRIX_SIZE - 1))\n",
    "tridi_matrix = TridiagonalToeplitz(1, a, b)\n",
    "\n",
    "average_solution = HHL().solve(tridi_matrix,\n",
    "                               vector,\n",
    "                               AbsoluteAverage())\n",
    "classical_average = NumPyLinearSolver(\n",
    "                        ).solve(matrix,\n",
    "                                vector / np.linalg.norm(vector),\n",
    "                                AbsoluteAverage())\n",
    "\n",
    "print('quantum average:', average_solution.observable)\n",
    "print('classical average:', classical_average.observable)\n",
    "print('quantum circuit results:', average_solution.circuit_results)"
   ]
  },
  {
   "cell_type": "code",
   "execution_count": 52,
   "id": "4c89bcb6-857e-408f-b385-2b081c59bea7",
   "metadata": {},
   "outputs": [
    {
     "name": "stdout",
     "output_type": "stream",
     "text": [
      "1.1858541225631383\n",
      "1.1858541225631423\n"
     ]
    }
   ],
   "source": [
    "from qiskit import Aer\n",
    "\n",
    "backend = Aer.get_backend('aer_simulator')\n",
    "hhl = HHL(1e-3, quantum_instance=backend)\n",
    "\n",
    "accurate_solution = hhl.solve(matrix, vector)\n",
    "classical_solution = NumPyLinearSolver(\n",
    "                    ).solve(matrix,\n",
    "                            vector / np.linalg.norm(vector))\n",
    "\n",
    "print(accurate_solution.euclidean_norm)\n",
    "print(classical_solution.euclidean_norm)"
   ]
  }
 ],
 "metadata": {
  "kernelspec": {
   "display_name": "Python 3 (ipykernel)",
   "language": "python",
   "name": "python3"
  },
  "language_info": {
   "codemirror_mode": {
    "name": "ipython",
    "version": 3
   },
   "file_extension": ".py",
   "mimetype": "text/x-python",
   "name": "python",
   "nbconvert_exporter": "python",
   "pygments_lexer": "ipython3",
   "version": "3.9.7"
  }
 },
 "nbformat": 4,
 "nbformat_minor": 5
}
